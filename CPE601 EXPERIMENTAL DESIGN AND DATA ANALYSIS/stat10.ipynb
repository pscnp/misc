{
 "cells": [
  {
   "cell_type": "code",
   "execution_count": 2,
   "metadata": {},
   "outputs": [
    {
     "name": "stdout",
     "output_type": "stream",
     "text": [
      "Test statistic:  -4.229347889833987\n",
      "P-value (two-sided):  0.00825342605375774\n"
     ]
    }
   ],
   "source": [
    "import numpy as np\n",
    "from scipy import stats\n",
    "x1 = np.array([1.988,4.019,2.352,1.886,1.075,4.739])\n",
    "x2 = np.array([1.987,4.031,2.363,1.901,1.092,4.750])\n",
    "# One-sided test\n",
    "t0,pval = stats.ttest_rel(x1, x2)\n",
    "print(\"Test statistic: \", t0)\n",
    "print(\"P-value (two-sided): \", pval)"
   ]
  },
  {
   "cell_type": "code",
   "execution_count": 3,
   "metadata": {},
   "outputs": [
    {
     "data": {
      "text/plain": [
       "-0.043"
      ]
     },
     "execution_count": 3,
     "metadata": {},
     "output_type": "execute_result"
    }
   ],
   "source": [
    "0.001-0.012-0.011-0.015-0.017+0.011"
   ]
  },
  {
   "cell_type": "code",
   "execution_count": 4,
   "metadata": {},
   "outputs": [
    {
     "data": {
      "text/plain": [
       "-0.007166666666666666"
      ]
     },
     "execution_count": 4,
     "metadata": {},
     "output_type": "execute_result"
    }
   ],
   "source": [
    "-0.043/6"
   ]
  },
  {
   "cell_type": "code",
   "execution_count": 5,
   "metadata": {},
   "outputs": [
    {
     "name": "stdout",
     "output_type": "stream",
     "text": [
      "Test statistic:  4.505736140246079\n",
      "P-value (two-sided):  0.0005910542321092202\n"
     ]
    }
   ],
   "source": [
    "x=np.array([61,62,66.7,58.9,59,66,59.9,78,64.3,80.3,82.5,59,81,74.4])\n",
    "y=np.array([50,41.5,56,36.6,46.4,42.4,53,76.1,59,37.8,82,56.2,66,62])\n",
    "t0,pval = stats.ttest_rel(x, y)\n",
    "print(\"Test statistic: \", t0)\n",
    "print(\"P-value (two-sided): \", pval)"
   ]
  },
  {
   "cell_type": "code",
   "execution_count": 6,
   "metadata": {},
   "outputs": [
    {
     "data": {
      "text/plain": [
       "0.0002955271160546101"
      ]
     },
     "execution_count": 6,
     "metadata": {},
     "output_type": "execute_result"
    }
   ],
   "source": [
    "0.0005910542321092202/2"
   ]
  },
  {
   "cell_type": "code",
   "execution_count": null,
   "metadata": {},
   "outputs": [],
   "source": []
  }
 ],
 "metadata": {
  "kernelspec": {
   "display_name": "Python 3",
   "language": "python",
   "name": "python3"
  },
  "language_info": {
   "codemirror_mode": {
    "name": "ipython",
    "version": 3
   },
   "file_extension": ".py",
   "mimetype": "text/x-python",
   "name": "python",
   "nbconvert_exporter": "python",
   "pygments_lexer": "ipython3",
   "version": "3.7.3"
  }
 },
 "nbformat": 4,
 "nbformat_minor": 2
}
