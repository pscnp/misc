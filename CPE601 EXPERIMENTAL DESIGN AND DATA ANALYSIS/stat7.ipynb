{
 "cells": [
  {
   "cell_type": "code",
   "execution_count": 1,
   "metadata": {},
   "outputs": [],
   "source": [
    "from statsmodels.stats.proportion import proportion_confint"
   ]
  },
  {
   "cell_type": "code",
   "execution_count": 3,
   "metadata": {},
   "outputs": [
    {
     "name": "stdout",
     "output_type": "stream",
     "text": [
      "Confident interval (WAC) = [0.735, 0.934]\n"
     ]
    }
   ],
   "source": [
    "ci_low, ci_up = proportion_confint(43, 50, alpha=0.05,method='agresti_coull')\n",
    "print('Confident interval (WAC) = [{0:0.3f}, {1:0.3f}]'.format(ci_low, ci_up))"
   ]
  }
 ],
 "metadata": {
  "kernelspec": {
   "display_name": "Python 3",
   "language": "python",
   "name": "python3"
  },
  "language_info": {
   "codemirror_mode": {
    "name": "ipython",
    "version": 3
   },
   "file_extension": ".py",
   "mimetype": "text/x-python",
   "name": "python",
   "nbconvert_exporter": "python",
   "pygments_lexer": "ipython3",
   "version": "3.7.3"
  }
 },
 "nbformat": 4,
 "nbformat_minor": 2
}
