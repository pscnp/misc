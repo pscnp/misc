{
 "cells": [
  {
   "cell_type": "code",
   "execution_count": 2,
   "metadata": {},
   "outputs": [],
   "source": [
    "import random\n",
    "import numpy as np\n",
    "import pickle\n",
    "import matplotlib.pyplot as plt\n",
    "import pandas as pd"
   ]
  },
  {
   "cell_type": "code",
   "execution_count": 10,
   "metadata": {},
   "outputs": [],
   "source": [
    "df = pd.read_csv('Knapsack-100items.csv')"
   ]
  },
  {
   "cell_type": "code",
   "execution_count": 11,
   "metadata": {},
   "outputs": [],
   "source": [
    "values = df.p\n",
    "weights = df.W"
   ]
  },
  {
   "cell_type": "code",
   "execution_count": 46,
   "metadata": {},
   "outputs": [],
   "source": [
    "def init(population_size):\n",
    "    return np.random.randint(2, size=(population_size, len(values)))\n",
    "def objective_function_by_value(chromosome):\n",
    "    sum = 0\n",
    "    for i in range(len(chromosome)):\n",
    "        sum += chromosome[i] * values[i]\n",
    "    return sum\n",
    "\n",
    "def objective_function_by_weight(chromosome):\n",
    "    sum = 0\n",
    "    for i in range(len(chromosome)):\n",
    "        sum += chromosome[i] * weights[i]\n",
    "    return -sum\n",
    "    \n",
    "def compute_fitness(chromosomes, objective_i):\n",
    "    if objective_i == 0: # value\n",
    "        fitness_function = objective_function_by_value\n",
    "    elif objective_i == 1: # weight\n",
    "        fitness_function = objective_function_by_weight\n",
    "    \n",
    "    fitness_batch = []\n",
    "    for chromosome in chromosomes:\n",
    "        fitness = fitness_function(chromosome)\n",
    "        fitness_batch.append(fitness)\n",
    "    return fitness_batch\n",
    "\n",
    "def select_top_n(chromosomes, fitness, n):\n",
    "    index = np.argsort(-fitness)\n",
    "    return chromosomes[index[:n]]\n",
    "\n",
    "def selection_within_subgroup(chromosomes, n):\n",
    "    objective_i = np.random.randint(2)\n",
    "    fitness = compute_fitness(chromosomes, objective_i)\n",
    "    parents_subgroup = select_top_n(chromosomes, fitness, n)\n",
    "    return parents_subgroup\n",
    "\n",
    "def crossover(parent_1, parent_2):\n",
    "    rand = np.random.randint(4)\n",
    "    if rand == 0:\n",
    "        child = parent_1\n",
    "    elif rand == 1:\n",
    "        child = parent_2\n",
    "    elif rand == 2:\n",
    "        child = np.concatenate((parent_1[:len(parent_1)/2], parent_2[len(parent_2)/2:]), axis=0)\n",
    "    elif rand == 3:\n",
    "        child = np.concatenate((parent_2[:len(parent_2)/2], parent_1[len(parent_1)/2:]), axis=0)\n",
    "    return child\n",
    "\n",
    "def making_children(parents, population_size):\n",
    "    children = []\n",
    "    for _ in range(population_size):\n",
    "        idx = np.random.choice(len(parents), size=2, replace=False)\n",
    "        parent_1 = parents[idx[0]]\n",
    "        parent_2 = parents[idx[1]]\n",
    "        child = crossover(parent_1, parent_2)\n",
    "        children.append(child)\n",
    "    children = np.asarray(children)\n",
    "    return children\n",
    "\n",
    "def mutation(chromosomes_t, mutation_rate):\n",
    "    chromosomes = chromosomes_t\n",
    "    for chromosome in chromosomes:\n",
    "        for i in range(len(chromosome)):\n",
    "            if random.random() < mutation_rate:\n",
    "                chromosome[i] = 1 if chromosome[i] == 0 else 0\n",
    "    return chromosomes"
   ]
  },
  {
   "cell_type": "code",
   "execution_count": null,
   "metadata": {},
   "outputs": [],
   "source": [
    "population_size = 50\n",
    "n = 5\n",
    "mutation_rate = 0.1\n",
    "n_iteration = 1000\n",
    "\n",
    "chromosomes = init(population_size)\n",
    "for iteration in range(n_iteration):\n",
    "    fitness_by_value = compute_fitness(chromosomes, 0)\n",
    "    fitness_by_weight = compute_fitness(chromosomes, 1)\n",
    "    top_n_by_value = select_top_n(chromosomes, fitness_by_value, population_size/2)\n",
    "    top_n_by_weight = select_top_n(chromosomes, fitness_by_weight, population_size/2)\n",
    "    parents_group_value = selection_within_subgroup(top_n_by_value, n)\n",
    "    parents_group_weight = selection_within_subgroup(top_n_by_weight, n)\n",
    "    parents = np.concatenate((parents_group_value, parents_group_weight), axis=0)\n",
    "    chromosomes = making_children(parents, population_size)\n",
    "    chromosomes = mutation(chromosomes, mutation_rate)\n",
    "    \n",
    "    # stat\n",
    "    "
   ]
  },
  {
   "cell_type": "code",
   "execution_count": 42,
   "metadata": {},
   "outputs": [
    {
     "data": {
      "text/plain": [
       "1"
      ]
     },
     "execution_count": 42,
     "metadata": {},
     "output_type": "execute_result"
    }
   ],
   "source": [
    " np.random.randint(2)"
   ]
  },
  {
   "cell_type": "code",
   "execution_count": 25,
   "metadata": {},
   "outputs": [
    {
     "data": {
      "text/plain": [
       "array([1, 3, 7, 1, 0, 2, 3, 2, 1, 9])"
      ]
     },
     "execution_count": 25,
     "metadata": {},
     "output_type": "execute_result"
    }
   ],
   "source": [
    "x = np.random.randint(10, size=10)\n",
    "x"
   ]
  },
  {
   "cell_type": "code",
   "execution_count": 43,
   "metadata": {},
   "outputs": [
    {
     "data": {
      "text/plain": [
       "array([6, 3, 1, 9, 3, 4, 9, 1, 4, 9])"
      ]
     },
     "execution_count": 43,
     "metadata": {},
     "output_type": "execute_result"
    }
   ],
   "source": [
    "y = np.random.randint(10, size=10)\n",
    "y"
   ]
  },
  {
   "cell_type": "code",
   "execution_count": 45,
   "metadata": {},
   "outputs": [
    {
     "data": {
      "text/plain": [
       "array([1, 3, 7, 1, 0, 2, 3, 2, 1, 9, 6, 3, 1, 9, 3, 4, 9, 1, 4, 9])"
      ]
     },
     "execution_count": 45,
     "metadata": {},
     "output_type": "execute_result"
    }
   ],
   "source": [
    "np.concatenate((x,y))"
   ]
  },
  {
   "cell_type": "code",
   "execution_count": 27,
   "metadata": {},
   "outputs": [
    {
     "data": {
      "text/plain": [
       "array([4, 0, 3, 8, 5, 7, 1, 6, 2, 9], dtype=int64)"
      ]
     },
     "execution_count": 27,
     "metadata": {},
     "output_type": "execute_result"
    }
   ],
   "source": [
    "np.argsort(x)"
   ]
  },
  {
   "cell_type": "code",
   "execution_count": 37,
   "metadata": {},
   "outputs": [
    {
     "data": {
      "text/plain": [
       "array([9, 2, 1, 6, 5, 7, 0, 3, 8, 4], dtype=int64)"
      ]
     },
     "execution_count": 37,
     "metadata": {},
     "output_type": "execute_result"
    }
   ],
   "source": [
    "idx = np.argsort(-x)\n",
    "idx"
   ]
  },
  {
   "cell_type": "code",
   "execution_count": 40,
   "metadata": {},
   "outputs": [
    {
     "data": {
      "text/plain": [
       "array([9, 2, 1], dtype=int64)"
      ]
     },
     "execution_count": 40,
     "metadata": {},
     "output_type": "execute_result"
    }
   ],
   "source": [
    "idx[:3]"
   ]
  },
  {
   "cell_type": "code",
   "execution_count": 41,
   "metadata": {},
   "outputs": [
    {
     "data": {
      "text/plain": [
       "array([9, 7, 3])"
      ]
     },
     "execution_count": 41,
     "metadata": {},
     "output_type": "execute_result"
    }
   ],
   "source": [
    "x[idx[:3]]"
   ]
  },
  {
   "cell_type": "code",
   "execution_count": 19,
   "metadata": {},
   "outputs": [],
   "source": [
    "x = init"
   ]
  },
  {
   "cell_type": "code",
   "execution_count": 22,
   "metadata": {},
   "outputs": [
    {
     "data": {
      "text/plain": [
       "5"
      ]
     },
     "execution_count": 22,
     "metadata": {},
     "output_type": "execute_result"
    }
   ],
   "source": [
    "x = 5\n",
    "sum = x\n",
    "sum"
   ]
  },
  {
   "cell_type": "code",
   "execution_count": 18,
   "metadata": {},
   "outputs": [
    {
     "data": {
      "text/plain": [
       "[array([1, 1, 0, 1, 0, 1, 1, 0, 0, 0, 0, 0, 0, 0, 0, 0, 0, 1, 0, 0, 0, 0,\n",
       "        0, 0, 1, 0, 0, 0, 1, 1, 1, 1, 0, 0, 1, 0, 0, 0, 0, 0, 1, 0, 0, 0,\n",
       "        1, 0, 0, 0, 0, 0, 1, 1, 0, 1, 1, 0, 1, 0, 1, 0, 0, 0, 0, 1, 1, 1,\n",
       "        1, 1, 0, 1, 1, 1, 1, 1, 1, 0, 0, 0, 0, 0, 1, 1, 0, 0, 0, 1, 1, 0,\n",
       "        1, 1, 1, 0, 0, 1, 0, 1, 1, 0, 0, 0]),\n",
       " array([1, 0, 1, 0, 0, 1, 1, 0, 0, 0, 0, 0, 1, 0, 0, 0, 0, 0, 0, 0, 0, 1,\n",
       "        0, 1, 1, 0, 0, 1, 0, 0, 0, 0, 1, 1, 1, 0, 0, 0, 0, 0, 1, 1, 1, 0,\n",
       "        1, 0, 0, 1, 1, 0, 1, 1, 1, 0, 1, 1, 1, 1, 0, 0, 1, 1, 0, 1, 0, 0,\n",
       "        0, 1, 0, 0, 1, 0, 0, 1, 0, 0, 1, 1, 1, 0, 0, 0, 0, 0, 0, 0, 0, 0,\n",
       "        1, 1, 0, 0, 1, 0, 1, 1, 0, 0, 0, 1]),\n",
       " array([0, 0, 0, 1, 1, 0, 1, 0, 1, 1, 1, 1, 1, 0, 0, 1, 0, 0, 0, 1, 0, 0,\n",
       "        1, 1, 1, 1, 1, 0, 0, 1, 0, 0, 1, 0, 1, 0, 0, 0, 1, 1, 1, 0, 0, 1,\n",
       "        1, 1, 1, 1, 1, 0, 0, 1, 0, 1, 1, 0, 0, 1, 1, 1, 1, 0, 1, 1, 1, 1,\n",
       "        1, 0, 0, 1, 1, 0, 1, 0, 0, 1, 0, 1, 1, 0, 0, 0, 0, 0, 1, 0, 0, 1,\n",
       "        1, 1, 1, 0, 0, 1, 1, 1, 0, 0, 1, 1]),\n",
       " array([0, 1, 1, 0, 0, 1, 0, 1, 0, 0, 0, 0, 1, 0, 1, 1, 1, 1, 0, 0, 0, 0,\n",
       "        0, 0, 1, 1, 0, 1, 0, 1, 1, 1, 0, 0, 0, 1, 0, 1, 1, 1, 1, 1, 0, 1,\n",
       "        0, 0, 0, 1, 1, 0, 0, 0, 1, 0, 1, 1, 1, 1, 0, 1, 1, 1, 0, 0, 1, 0,\n",
       "        1, 1, 0, 0, 0, 0, 1, 1, 0, 1, 0, 1, 1, 0, 0, 0, 1, 1, 0, 0, 0, 1,\n",
       "        1, 0, 1, 1, 1, 1, 1, 0, 0, 1, 1, 0]),\n",
       " array([0, 1, 1, 1, 1, 1, 1, 1, 1, 1, 0, 0, 1, 1, 0, 1, 1, 0, 0, 0, 0, 0,\n",
       "        0, 0, 0, 1, 0, 0, 1, 1, 1, 0, 0, 0, 0, 1, 1, 0, 1, 0, 1, 1, 1, 1,\n",
       "        1, 0, 0, 1, 0, 0, 0, 1, 0, 1, 1, 0, 0, 1, 1, 0, 0, 0, 0, 1, 1, 1,\n",
       "        1, 1, 1, 0, 1, 1, 1, 1, 1, 0, 1, 0, 0, 0, 1, 0, 1, 0, 0, 0, 1, 1,\n",
       "        1, 1, 1, 1, 0, 0, 1, 0, 0, 1, 0, 1])]"
      ]
     },
     "execution_count": 18,
     "metadata": {},
     "output_type": "execute_result"
    }
   ],
   "source": [
    "init(5)"
   ]
  },
  {
   "cell_type": "code",
   "execution_count": null,
   "metadata": {},
   "outputs": [],
   "source": []
  }
 ],
 "metadata": {
  "kernelspec": {
   "display_name": "Python 3",
   "language": "python",
   "name": "python3"
  },
  "language_info": {
   "codemirror_mode": {
    "name": "ipython",
    "version": 3
   },
   "file_extension": ".py",
   "mimetype": "text/x-python",
   "name": "python",
   "nbconvert_exporter": "python",
   "pygments_lexer": "ipython3",
   "version": "3.8.5"
  }
 },
 "nbformat": 4,
 "nbformat_minor": 4
}
