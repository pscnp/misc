{
 "cells": [
  {
   "cell_type": "code",
   "execution_count": 40,
   "metadata": {},
   "outputs": [
    {
     "name": "stderr",
     "output_type": "stream",
     "text": [
      "[nltk_data] Downloading package stopwords to\n",
      "[nltk_data]     C:\\Users\\asus\\AppData\\Roaming\\nltk_data...\n",
      "[nltk_data]   Package stopwords is already up-to-date!\n",
      "[nltk_data] Downloading package punkt to\n",
      "[nltk_data]     C:\\Users\\asus\\AppData\\Roaming\\nltk_data...\n",
      "[nltk_data]   Package punkt is already up-to-date!\n",
      "[nltk_data] Downloading package wordnet to\n",
      "[nltk_data]     C:\\Users\\asus\\AppData\\Roaming\\nltk_data...\n",
      "[nltk_data]   Package wordnet is already up-to-date!\n"
     ]
    }
   ],
   "source": [
    "from bs4 import BeautifulSoup\n",
    "import requests\n",
    "import time\n",
    "import pandas as pd\n",
    "import re\n",
    "import string\n",
    "from nltk.corpus import stopwords\n",
    "from nltk import word_tokenize\n",
    "from nltk.stem import WordNetLemmatizer \n",
    "import gensim\n",
    "import csv\n",
    "import json\n",
    "import nltk\n",
    "from gensim import corpora, models\n",
    "import numpy as np\n",
    "from nltk.corpus import wordnet\n",
    "import matplotlib.pyplot as plt\n",
    "from sklearn.ensemble import RandomForestRegressor\n",
    "from sklearn.model_selection import train_test_split\n",
    "import pickle \n",
    "from keras.callbacks import ModelCheckpoint\n",
    "from keras.models import Sequential\n",
    "from keras.layers import Dense, Activation, Flatten, Input, Dense, Dropout, Embedding, Flatten, LSTM, Bidirectional\n",
    "import itertools\n",
    "from matplotlib import pyplot\n",
    "from gensim.models.ldamulticore import LdaMulticore\n",
    "import seaborn as sns\n",
    "from scipy.stats import pearsonr\n",
    "from scipy.stats import spearmanr\n",
    "from wordcloud import WordCloud, STOPWORDS, ImageColorGenerator\n",
    "import statsmodels.api as sm\n",
    "from sklearn import preprocessing\n",
    "from sklearn.preprocessing import minmax_scale\n",
    "import math\n",
    "import seaborn as sns\n",
    "from keras.utils import to_categorical\n",
    "from keras.preprocessing.text import Tokenizer\n",
    "from scipy.sparse import csr_matrix\n",
    "from keras.models import load_model\n",
    "\n",
    "nltk.download('stopwords')\n",
    "nltk.download('punkt')\n",
    "nltk.download('wordnet')\n",
    "\n",
    "from nltk.corpus import stopwords\n",
    "from keras.preprocessing.sequence import pad_sequences\n",
    "from keras.models import Sequential\n",
    "from keras.layers.core import Activation, Dropout, Dense\n",
    "from keras.layers import Flatten\n",
    "from keras.layers import GlobalMaxPooling1D,Conv1D,LSTM\n",
    "from keras.layers.embeddings import Embedding\n",
    "from sklearn.model_selection import train_test_split\n",
    "from keras.preprocessing.text import Tokenizer\n",
    "import nltk\n",
    "from nltk.corpus import stopwords\n",
    "from nltk.tokenize import word_tokenize\n",
    "from collections import Counter "
   ]
  },
  {
   "cell_type": "code",
   "execution_count": 2,
   "metadata": {},
   "outputs": [],
   "source": [
    "df = pd.read_csv('IMDB Dataset.csv')"
   ]
  },
  {
   "cell_type": "code",
   "execution_count": 3,
   "metadata": {},
   "outputs": [
    {
     "data": {
      "text/html": [
       "<div>\n",
       "<style scoped>\n",
       "    .dataframe tbody tr th:only-of-type {\n",
       "        vertical-align: middle;\n",
       "    }\n",
       "\n",
       "    .dataframe tbody tr th {\n",
       "        vertical-align: top;\n",
       "    }\n",
       "\n",
       "    .dataframe thead th {\n",
       "        text-align: right;\n",
       "    }\n",
       "</style>\n",
       "<table border=\"1\" class=\"dataframe\">\n",
       "  <thead>\n",
       "    <tr style=\"text-align: right;\">\n",
       "      <th></th>\n",
       "      <th>review</th>\n",
       "      <th>sentiment</th>\n",
       "    </tr>\n",
       "  </thead>\n",
       "  <tbody>\n",
       "    <tr>\n",
       "      <th>0</th>\n",
       "      <td>One of the other reviewers has mentioned that ...</td>\n",
       "      <td>positive</td>\n",
       "    </tr>\n",
       "    <tr>\n",
       "      <th>1</th>\n",
       "      <td>A wonderful little production. &lt;br /&gt;&lt;br /&gt;The...</td>\n",
       "      <td>positive</td>\n",
       "    </tr>\n",
       "    <tr>\n",
       "      <th>2</th>\n",
       "      <td>I thought this was a wonderful way to spend ti...</td>\n",
       "      <td>positive</td>\n",
       "    </tr>\n",
       "    <tr>\n",
       "      <th>3</th>\n",
       "      <td>Basically there's a family where a little boy ...</td>\n",
       "      <td>negative</td>\n",
       "    </tr>\n",
       "    <tr>\n",
       "      <th>4</th>\n",
       "      <td>Petter Mattei's \"Love in the Time of Money\" is...</td>\n",
       "      <td>positive</td>\n",
       "    </tr>\n",
       "  </tbody>\n",
       "</table>\n",
       "</div>"
      ],
      "text/plain": [
       "                                              review sentiment\n",
       "0  One of the other reviewers has mentioned that ...  positive\n",
       "1  A wonderful little production. <br /><br />The...  positive\n",
       "2  I thought this was a wonderful way to spend ti...  positive\n",
       "3  Basically there's a family where a little boy ...  negative\n",
       "4  Petter Mattei's \"Love in the Time of Money\" is...  positive"
      ]
     },
     "execution_count": 3,
     "metadata": {},
     "output_type": "execute_result"
    }
   ],
   "source": [
    "df.head()"
   ]
  },
  {
   "cell_type": "code",
   "execution_count": 4,
   "metadata": {},
   "outputs": [],
   "source": [
    "def remove_html(text):\n",
    "    soup = BeautifulSoup(text, 'html.parser')\n",
    "    return soup.get_text()\n",
    "\n",
    "def text_preprocess(x):\n",
    "    text = remove_html(x)\n",
    "    text = text.lower()\n",
    "    text = text.translate(str.maketrans(string.punctuation, ' '*len(string.punctuation)))\n",
    "    text = re.sub(r\"\\b[a-zA-Z]\\b\", ' ', text)\n",
    "    text = word_tokenize(text)\n",
    "    stops = set(stopwords.words(\"english\"))\n",
    "    text = [i for i in text if i not in stops]\n",
    "    return text"
   ]
  },
  {
   "cell_type": "code",
   "execution_count": 5,
   "metadata": {},
   "outputs": [],
   "source": [
    "text = [text_preprocess(x) for x in df['review']]"
   ]
  },
  {
   "cell_type": "code",
   "execution_count": 6,
   "metadata": {},
   "outputs": [
    {
     "name": "stdout",
     "output_type": "stream",
     "text": [
      "Total documents: 50000\n",
      "Total words: 5966534\n",
      "Distinct words: 104661\n"
     ]
    }
   ],
   "source": [
    "dictionary = gensim.corpora.Dictionary(text)\n",
    "print('Total documents:', dictionary.num_docs)\n",
    "print('Total words:', dictionary.num_pos)\n",
    "print('Distinct words:', len(dictionary))"
   ]
  },
  {
   "cell_type": "code",
   "execution_count": 7,
   "metadata": {},
   "outputs": [
    {
     "name": "stdout",
     "output_type": "stream",
     "text": [
      "Total documents: 50000\n",
      "Total words: 5966534\n",
      "Distinct words: 10052\n"
     ]
    }
   ],
   "source": [
    "dictionary.filter_extremes(no_below=50)\n",
    "print('Total documents:', dictionary.num_docs)\n",
    "print('Total words:', dictionary.num_pos)\n",
    "print('Distinct words:', len(dictionary))"
   ]
  },
  {
   "cell_type": "code",
   "execution_count": 8,
   "metadata": {},
   "outputs": [],
   "source": [
    "X = [dictionary.doc2idx(doc, unknown_word_index=-1) for doc in text]\n",
    "temp = []\n",
    "for document in X:\n",
    "    temp.append([i for i in document if i != -1])\n",
    "X = temp   "
   ]
  },
  {
   "cell_type": "code",
   "execution_count": 9,
   "metadata": {},
   "outputs": [],
   "source": [
    "y = list(df['sentiment'])\n",
    "y = [1 if i == 'positive' else 0 for i in y]"
   ]
  },
  {
   "cell_type": "code",
   "execution_count": 10,
   "metadata": {},
   "outputs": [],
   "source": [
    "X_train, X_test, y_train, y_test = train_test_split(X, y, test_size=0.2, random_state=99)"
   ]
  },
  {
   "cell_type": "code",
   "execution_count": 11,
   "metadata": {},
   "outputs": [],
   "source": [
    "maxlen = 100\n",
    "X_train = pad_sequences(X_train, padding='post', maxlen=maxlen)\n",
    "X_test = pad_sequences(X_test, padding='post', maxlen=maxlen)"
   ]
  },
  {
   "cell_type": "code",
   "execution_count": 12,
   "metadata": {},
   "outputs": [],
   "source": [
    "vocab_size = len(dictionary)\n",
    "# one hot embedding\n",
    "temp = np.zeros((1, vocab_size))\n",
    "embedding_weights = np.zeros((vocab_size, vocab_size))\n",
    "for i in range(len(embedding_weights)):\n",
    "    embedding_weights[i][i] = 1\n",
    "embedding_weights = np.concatenate((temp, embedding_weights), axis=0)    "
   ]
  },
  {
   "cell_type": "code",
   "execution_count": 13,
   "metadata": {},
   "outputs": [
    {
     "name": "stdout",
     "output_type": "stream",
     "text": [
      "0\n",
      "50\n",
      "100\n",
      "150\n",
      "200\n",
      "250\n",
      "300\n",
      "350\n",
      "400\n",
      "450\n",
      "500\n",
      "550\n",
      "600\n",
      "650\n",
      "700\n",
      "750\n",
      "800\n",
      "850\n",
      "900\n",
      "950\n",
      "1000\n",
      "1050\n",
      "1100\n",
      "1150\n",
      "1200\n",
      "1250\n",
      "1300\n",
      "1350\n",
      "1400\n",
      "1450\n",
      "1500\n",
      "1550\n",
      "1600\n",
      "1650\n",
      "1700\n",
      "1750\n",
      "1800\n",
      "1850\n",
      "1900\n",
      "1950\n",
      "2000\n",
      "2050\n",
      "2100\n",
      "2150\n",
      "2200\n",
      "2250\n",
      "2300\n",
      "2350\n",
      "2400\n",
      "2450\n",
      "2500\n",
      "2550\n",
      "2600\n",
      "2650\n",
      "2700\n",
      "2750\n",
      "2800\n",
      "2850\n",
      "2900\n",
      "2950\n",
      "3000\n",
      "3050\n",
      "3100\n",
      "3150\n",
      "3200\n",
      "3250\n",
      "3300\n",
      "3350\n",
      "3400\n",
      "3450\n",
      "3500\n",
      "3550\n",
      "3600\n",
      "3650\n",
      "3700\n",
      "3750\n",
      "3800\n",
      "3850\n",
      "3900\n",
      "3950\n",
      "4000\n",
      "4050\n",
      "4100\n",
      "4150\n",
      "4200\n",
      "4250\n",
      "4300\n",
      "4350\n",
      "4400\n",
      "4450\n",
      "4500\n",
      "4550\n",
      "4600\n",
      "4650\n",
      "4700\n",
      "4750\n",
      "4800\n",
      "4850\n",
      "4900\n",
      "4950\n",
      "5000\n",
      "5050\n",
      "5100\n",
      "5150\n",
      "5200\n",
      "5250\n",
      "5300\n",
      "5350\n",
      "5400\n",
      "5450\n",
      "5500\n",
      "5550\n",
      "5600\n",
      "5650\n",
      "5700\n",
      "5750\n",
      "5800\n",
      "5850\n",
      "5900\n",
      "5950\n",
      "6000\n",
      "6050\n",
      "6100\n",
      "6150\n",
      "6200\n",
      "6250\n",
      "6300\n",
      "6350\n",
      "6400\n",
      "6450\n",
      "6500\n",
      "6550\n",
      "6600\n",
      "6650\n",
      "6700\n",
      "6750\n",
      "6800\n",
      "6850\n",
      "6900\n",
      "6950\n",
      "7000\n",
      "7050\n",
      "7100\n",
      "7150\n",
      "7200\n",
      "7250\n",
      "7300\n",
      "7350\n",
      "7400\n",
      "7450\n",
      "7500\n",
      "7550\n",
      "7600\n",
      "7650\n",
      "7700\n",
      "7750\n",
      "7800\n",
      "7850\n",
      "7900\n",
      "7950\n",
      "8000\n",
      "8050\n",
      "8100\n",
      "8150\n",
      "8200\n",
      "8250\n",
      "8300\n",
      "8350\n",
      "8400\n",
      "8450\n",
      "8500\n",
      "8550\n",
      "8600\n",
      "8650\n",
      "8700\n",
      "8750\n",
      "8800\n",
      "8850\n",
      "8900\n",
      "8950\n",
      "9000\n",
      "9050\n",
      "9100\n",
      "9150\n",
      "9200\n",
      "9250\n",
      "9300\n",
      "9350\n",
      "9400\n",
      "9450\n",
      "9500\n",
      "9550\n",
      "9600\n",
      "9650\n",
      "9700\n",
      "9750\n",
      "9800\n",
      "9850\n",
      "9900\n",
      "9950\n",
      "10000\n",
      "10050\n"
     ]
    }
   ],
   "source": [
    "# word x word\n",
    "temp = np.zeros((1, vocab_size))\n",
    "embedding_weights2 = np.zeros((vocab_size, vocab_size))\n",
    "for i in range(len(embedding_weights)):\n",
    "    if i%50 == 0:\n",
    "        print(i)\n",
    "    word_exist_lists = []\n",
    "    for document in X:\n",
    "        if i in document:\n",
    "            word_exist_lists.append(document)\n",
    "    word_exist_lists = [val for sublist in word_exist_lists for val in sublist]\n",
    "    word_exist_lists = list(zip(Counter(word_exist_lists).keys(), Counter(word_exist_lists).values()))\n",
    "    for word, count in word_exist_lists:\n",
    "        embedding_weights2[i][word] += count\n",
    "embedding_weights2 = np.concatenate((temp, embedding_weights2), axis=0)  "
   ]
  },
  {
   "cell_type": "code",
   "execution_count": 14,
   "metadata": {},
   "outputs": [],
   "source": [
    "# word2vec\n",
    "vector_size = 100\n",
    "word2vec = gensim.models.Word2Vec(sentences=text, size=vector_size, min_count=1)\n",
    "\n",
    "temp = np.zeros((1, vector_size))\n",
    "embedding_weights3 = np.zeros((vocab_size, vector_size))\n",
    "for idx, word in dictionary.id2token.items(): #\n",
    "    embedding_weights3[idx] = word2vec.wv[word]\n",
    "embedding_weights3 = np.concatenate((temp, embedding_weights3), axis=0)  "
   ]
  },
  {
   "cell_type": "code",
   "execution_count": 15,
   "metadata": {},
   "outputs": [
    {
     "data": {
      "text/plain": [
       "[('cat', 0.756543755531311),\n",
       " ('puppy', 0.72847580909729),\n",
       " ('monkey', 0.6910975575447083),\n",
       " ('bite', 0.6843846440315247),\n",
       " ('rat', 0.6837461590766907),\n",
       " ('freak', 0.6742722988128662),\n",
       " ('chicken', 0.6695947051048279),\n",
       " ('soup', 0.6683763265609741),\n",
       " ('pet', 0.6529672145843506),\n",
       " ('eat', 0.6423126459121704)]"
      ]
     },
     "execution_count": 15,
     "metadata": {},
     "output_type": "execute_result"
    }
   ],
   "source": [
    "word2vec.wv.most_similar('dog')"
   ]
  },
  {
   "cell_type": "code",
   "execution_count": 16,
   "metadata": {},
   "outputs": [
    {
     "data": {
      "text/plain": [
       "array([[0., 0., 0., ..., 0., 0., 0.],\n",
       "       [1., 0., 0., ..., 0., 0., 0.],\n",
       "       [0., 1., 0., ..., 0., 0., 0.],\n",
       "       ...,\n",
       "       [0., 0., 0., ..., 1., 0., 0.],\n",
       "       [0., 0., 0., ..., 0., 1., 0.],\n",
       "       [0., 0., 0., ..., 0., 0., 1.]])"
      ]
     },
     "execution_count": 16,
     "metadata": {},
     "output_type": "execute_result"
    }
   ],
   "source": [
    "embedding_weights"
   ]
  },
  {
   "cell_type": "code",
   "execution_count": 58,
   "metadata": {},
   "outputs": [
    {
     "data": {
      "text/plain": [
       "array([[0.000e+00, 0.000e+00, 0.000e+00, ..., 0.000e+00, 0.000e+00,\n",
       "        0.000e+00],\n",
       "       [4.244e+03, 2.000e+00, 1.600e+01, ..., 7.000e+00, 8.000e+00,\n",
       "        9.000e+00],\n",
       "       [2.000e+00, 5.800e+01, 1.000e+00, ..., 0.000e+00, 0.000e+00,\n",
       "        0.000e+00],\n",
       "       ...,\n",
       "       [8.000e+00, 0.000e+00, 0.000e+00, ..., 7.200e+01, 0.000e+00,\n",
       "        3.000e+00],\n",
       "       [1.100e+01, 0.000e+00, 0.000e+00, ..., 0.000e+00, 6.000e+01,\n",
       "        0.000e+00],\n",
       "       [1.000e+00, 0.000e+00, 1.000e+00, ..., 1.000e+00, 0.000e+00,\n",
       "        7.100e+01]])"
      ]
     },
     "execution_count": 58,
     "metadata": {},
     "output_type": "execute_result"
    }
   ],
   "source": [
    "embedding_weights2"
   ]
  },
  {
   "cell_type": "code",
   "execution_count": 30,
   "metadata": {},
   "outputs": [
    {
     "data": {
      "text/plain": [
       "array([[ 0.        ,  0.        ,  0.        , ...,  0.        ,\n",
       "         0.        ,  0.        ],\n",
       "       [-1.52427471,  0.35277975,  0.41274524, ...,  1.63099992,\n",
       "         0.02881975, -0.54497701],\n",
       "       [-0.37655869, -0.27064472, -0.10655311, ...,  0.09091809,\n",
       "         0.13988782,  0.13104627],\n",
       "       ...,\n",
       "       [-0.11918246, -0.10081354, -0.07031845, ...,  0.04232553,\n",
       "         0.08791208, -0.11213604],\n",
       "       [-0.1793955 ,  0.0902925 ,  0.28385606, ...,  0.41307884,\n",
       "         0.0713767 , -0.19674842],\n",
       "       [-0.18589349, -0.3237569 ,  0.38261575, ..., -0.32274777,\n",
       "         0.33173734, -0.28223792]])"
      ]
     },
     "execution_count": 30,
     "metadata": {},
     "output_type": "execute_result"
    }
   ],
   "source": [
    "embedding_weights3"
   ]
  },
  {
   "cell_type": "code",
   "execution_count": 49,
   "metadata": {},
   "outputs": [],
   "source": [
    "model = Sequential()\n",
    "\n",
    "model.add(Embedding(vocab_size+1, vocab_size, weights=[embedding_weights], input_length=maxlen , trainable=False))\n",
    "model.add(Dropout(0.5))\n",
    "model.add(Bidirectional(LSTM(32)))\n",
    "model.add(Dropout(0.5))\n",
    "model.add(Dense(1, activation='sigmoid'))\n",
    "model.compile(optimizer='adam', loss='binary_crossentropy', metrics=['acc'])"
   ]
  },
  {
   "cell_type": "code",
   "execution_count": 50,
   "metadata": {},
   "outputs": [
    {
     "name": "stdout",
     "output_type": "stream",
     "text": [
      "Model: \"sequential_4\"\n",
      "_________________________________________________________________\n",
      "Layer (type)                 Output Shape              Param #   \n",
      "=================================================================\n",
      "embedding_4 (Embedding)      (None, 100, 10052)        101052756 \n",
      "_________________________________________________________________\n",
      "dropout_5 (Dropout)          (None, 100, 10052)        0         \n",
      "_________________________________________________________________\n",
      "bidirectional_3 (Bidirection (None, 64)                2581760   \n",
      "_________________________________________________________________\n",
      "dropout_6 (Dropout)          (None, 64)                0         \n",
      "_________________________________________________________________\n",
      "dense_3 (Dense)              (None, 1)                 65        \n",
      "=================================================================\n",
      "Total params: 103,634,581\n",
      "Trainable params: 2,581,825\n",
      "Non-trainable params: 101,052,756\n",
      "_________________________________________________________________\n"
     ]
    }
   ],
   "source": [
    "model.summary()"
   ]
  },
  {
   "cell_type": "code",
   "execution_count": 51,
   "metadata": {},
   "outputs": [
    {
     "name": "stdout",
     "output_type": "stream",
     "text": [
      "Train on 32000 samples, validate on 8000 samples\n",
      "Epoch 1/5\n",
      "32000/32000 [==============================] - 1400s 44ms/step - loss: 0.5104 - acc: 0.7530 - val_loss: 0.3518 - val_acc: 0.8626\n",
      "Epoch 2/5\n",
      "32000/32000 [==============================] - 1691s 53ms/step - loss: 0.3638 - acc: 0.8467 - val_loss: 0.3511 - val_acc: 0.8735\n",
      "Epoch 3/5\n",
      "32000/32000 [==============================] - 1558s 49ms/step - loss: 0.3233 - acc: 0.8682 - val_loss: 0.2975 - val_acc: 0.8790\n",
      "Epoch 4/5\n",
      "32000/32000 [==============================] - 1571s 49ms/step - loss: 0.2940 - acc: 0.8785 - val_loss: 0.2898 - val_acc: 0.8821\n",
      "Epoch 5/5\n",
      "32000/32000 [==============================] - 1857s 58ms/step - loss: 0.2722 - acc: 0.8889 - val_loss: 0.2848 - val_acc: 0.8846\n",
      "10000/10000 [==============================] - 244s 24ms/step\n"
     ]
    }
   ],
   "source": [
    "hist = model.fit(X_train, y_train, batch_size=128, epochs=5, verbose=1, validation_split=0.2)\n",
    "score = model.evaluate(X_test, y_test, verbose=1)"
   ]
  },
  {
   "cell_type": "code",
   "execution_count": 78,
   "metadata": {},
   "outputs": [
    {
     "data": {
      "image/png": "[encoded data removed]",
      "text/plain": [
       "<Figure size 432x288 with 1 Axes>"
      ]
     },
     "metadata": {
      "needs_background": "light"
     },
     "output_type": "display_data"
    }
   ],
   "source": [
    "plt.plot(hist.history['val_loss'])\n",
    "plt.plot(hist.history['loss'])\n",
    "plt.title('Model loss')\n",
    "plt.ylabel('Loss')\n",
    "plt.xlabel('Epochs')\n",
    "plt.legend(['Test', 'Train'], loc='upper left')\n",
    "plt.show()"
   ]
  },
  {
   "cell_type": "code",
   "execution_count": 59,
   "metadata": {},
   "outputs": [
    {
     "name": "stdout",
     "output_type": "stream",
     "text": [
      "test loss, test acc: [0.27251629419326784, 0.89410001039505]\n"
     ]
    }
   ],
   "source": [
    "print('test loss, test acc:', score)"
   ]
  },
  {
   "cell_type": "code",
   "execution_count": 55,
   "metadata": {},
   "outputs": [],
   "source": [
    "model2 = Sequential()\n",
    "\n",
    "model2.add(Embedding(vocab_size+1, vocab_size, weights=[embedding_weights2], input_length=maxlen , trainable=False))\n",
    "model2.add(Dropout(0.5))\n",
    "model2.add(Bidirectional(LSTM(32)))\n",
    "model2.add(Dropout(0.5))\n",
    "model2.add(Dense(1, activation='sigmoid'))\n",
    "model2.compile(optimizer='adam', loss='binary_crossentropy', metrics=['acc'])"
   ]
  },
  {
   "cell_type": "code",
   "execution_count": 56,
   "metadata": {},
   "outputs": [
    {
     "name": "stdout",
     "output_type": "stream",
     "text": [
      "Model: \"sequential_6\"\n",
      "_________________________________________________________________\n",
      "Layer (type)                 Output Shape              Param #   \n",
      "=================================================================\n",
      "embedding_6 (Embedding)      (None, 100, 10052)        101052756 \n",
      "_________________________________________________________________\n",
      "dropout_8 (Dropout)          (None, 100, 10052)        0         \n",
      "_________________________________________________________________\n",
      "bidirectional_5 (Bidirection (None, 64)                2581760   \n",
      "_________________________________________________________________\n",
      "dropout_9 (Dropout)          (None, 64)                0         \n",
      "_________________________________________________________________\n",
      "dense_4 (Dense)              (None, 1)                 65        \n",
      "=================================================================\n",
      "Total params: 103,634,581\n",
      "Trainable params: 2,581,825\n",
      "Non-trainable params: 101,052,756\n",
      "_________________________________________________________________\n"
     ]
    }
   ],
   "source": [
    "model2.summary()"
   ]
  },
  {
   "cell_type": "code",
   "execution_count": 60,
   "metadata": {},
   "outputs": [
    {
     "name": "stdout",
     "output_type": "stream",
     "text": [
      "Train on 32000 samples, validate on 8000 samples\n",
      "Epoch 1/5\n",
      "32000/32000 [==============================] - 2159s 67ms/step - loss: 0.7143 - acc: 0.5025 - val_loss: 0.6908 - val_acc: 0.5253\n",
      "Epoch 2/5\n",
      "32000/32000 [==============================] - 1514s 47ms/step - loss: 0.6972 - acc: 0.5080 - val_loss: 0.6890 - val_acc: 0.5299\n",
      "Epoch 3/5\n",
      "32000/32000 [==============================] - 1017s 32ms/step - loss: 0.6925 - acc: 0.5142 - val_loss: 0.6884 - val_acc: 0.5309\n",
      "Epoch 4/5\n",
      "32000/32000 [==============================] - 958s 30ms/step - loss: 0.6902 - acc: 0.5167 - val_loss: 0.6871 - val_acc: 0.5304\n",
      "Epoch 5/5\n",
      "32000/32000 [==============================] - 928s 29ms/step - loss: 0.6894 - acc: 0.5167 - val_loss: 0.6868 - val_acc: 0.5297\n",
      "10000/10000 [==============================] - 129s 13ms/step\n"
     ]
    }
   ],
   "source": [
    "hist2 = model2.fit(X_train, y_train, batch_size=128, epochs=5, verbose=1, validation_split=0.2)\n",
    "score2 = model2.evaluate(X_test, y_test, verbose=1)"
   ]
  },
  {
   "cell_type": "code",
   "execution_count": 79,
   "metadata": {},
   "outputs": [
    {
     "data": {
      "image/png": "[encoded data removed]",
      "text/plain": [
       "<Figure size 432x288 with 1 Axes>"
      ]
     },
     "metadata": {
      "needs_background": "light"
     },
     "output_type": "display_data"
    }
   ],
   "source": [
    "plt.plot(hist2.history['val_loss'])\n",
    "plt.plot(hist2.history['loss'])\n",
    "plt.title('Model loss')\n",
    "plt.ylabel('Loss')\n",
    "plt.xlabel('Epochs')\n",
    "plt.legend(['Test', 'Train'], loc='upper left')\n",
    "plt.show()"
   ]
  },
  {
   "cell_type": "code",
   "execution_count": 62,
   "metadata": {},
   "outputs": [
    {
     "name": "stdout",
     "output_type": "stream",
     "text": [
      "test loss, test acc: [0.6873982948303222, 0.5254999995231628]\n"
     ]
    }
   ],
   "source": [
    "print('test loss, test acc:', score2)"
   ]
  },
  {
   "cell_type": "code",
   "execution_count": 73,
   "metadata": {},
   "outputs": [],
   "source": [
    "model3 = Sequential()\n",
    "\n",
    "model3.add(Embedding(vocab_size+1, vector_size, weights=[embedding_weights3], input_length=maxlen , trainable=False))\n",
    "model3.add(Dropout(0.5))\n",
    "model3.add(Bidirectional(LSTM(32)))\n",
    "model3.add(Dropout(0.5))\n",
    "model3.add(Dense(1, activation='sigmoid'))\n",
    "model3.compile(optimizer='adam', loss='binary_crossentropy', metrics=['acc'])"
   ]
  },
  {
   "cell_type": "code",
   "execution_count": 74,
   "metadata": {},
   "outputs": [
    {
     "name": "stdout",
     "output_type": "stream",
     "text": [
      "Model: \"sequential_9\"\n",
      "_________________________________________________________________\n",
      "Layer (type)                 Output Shape              Param #   \n",
      "=================================================================\n",
      "embedding_9 (Embedding)      (None, 100, 100)          1005300   \n",
      "_________________________________________________________________\n",
      "dropout_14 (Dropout)         (None, 100, 100)          0         \n",
      "_________________________________________________________________\n",
      "bidirectional_8 (Bidirection (None, 64)                34048     \n",
      "_________________________________________________________________\n",
      "dropout_15 (Dropout)         (None, 64)                0         \n",
      "_________________________________________________________________\n",
      "dense_7 (Dense)              (None, 1)                 65        \n",
      "=================================================================\n",
      "Total params: 1,039,413\n",
      "Trainable params: 34,113\n",
      "Non-trainable params: 1,005,300\n",
      "_________________________________________________________________\n"
     ]
    }
   ],
   "source": [
    "model3.summary()"
   ]
  },
  {
   "cell_type": "code",
   "execution_count": 75,
   "metadata": {},
   "outputs": [
    {
     "name": "stdout",
     "output_type": "stream",
     "text": [
      "Train on 32000 samples, validate on 8000 samples\n",
      "Epoch 1/5\n",
      "32000/32000 [==============================] - 30s 946us/step - loss: 0.6790 - acc: 0.5638 - val_loss: 0.6192 - val_acc: 0.6755\n",
      "Epoch 2/5\n",
      "32000/32000 [==============================] - 29s 899us/step - loss: 0.6171 - acc: 0.6630 - val_loss: 0.5634 - val_acc: 0.7149\n",
      "Epoch 3/5\n",
      "32000/32000 [==============================] - 29s 921us/step - loss: 0.5834 - acc: 0.6943 - val_loss: 0.5159 - val_acc: 0.7529\n",
      "Epoch 4/5\n",
      "32000/32000 [==============================] - 29s 902us/step - loss: 0.5497 - acc: 0.7209 - val_loss: 0.5302 - val_acc: 0.7600\n",
      "Epoch 5/5\n",
      "32000/32000 [==============================] - 29s 900us/step - loss: 0.5320 - acc: 0.7320 - val_loss: 0.5000 - val_acc: 0.7750\n",
      "10000/10000 [==============================] - 6s 584us/step\n"
     ]
    }
   ],
   "source": [
    "hist3 = model3.fit(X_train, y_train, batch_size=128, epochs=5, verbose=1, validation_split=0.2)\n",
    "score3 = model3.evaluate(X_test, y_test, verbose=1)"
   ]
  },
  {
   "cell_type": "code",
   "execution_count": 135,
   "metadata": {},
   "outputs": [
    {
     "data": {
      "text/plain": [
       "{'val_loss': [0.6192039141654968,\n",
       "  0.5634308314323425,\n",
       "  0.5159142265319824,\n",
       "  0.5301860752105713,\n",
       "  0.5000154626369476],\n",
       " 'val_acc': [0.6754999756813049,\n",
       "  0.7148749828338623,\n",
       "  0.7528749704360962,\n",
       "  0.7599999904632568,\n",
       "  0.7749999761581421],\n",
       " 'loss': [0.6790124049186707,\n",
       "  0.6170849561691284,\n",
       "  0.5834078265428543,\n",
       "  0.5497499930858613,\n",
       "  0.5319766889810562],\n",
       " 'acc': [0.56378126, 0.6630312, 0.6943125, 0.720875, 0.73196876]}"
      ]
     },
     "execution_count": 135,
     "metadata": {},
     "output_type": "execute_result"
    }
   ],
   "source": [
    "hist3.history"
   ]
  },
  {
   "cell_type": "code",
   "execution_count": 80,
   "metadata": {},
   "outputs": [
    {
     "data": {
      "image/png": "[encoded data removed]",
      "text/plain": [
       "<Figure size 432x288 with 1 Axes>"
      ]
     },
     "metadata": {
      "needs_background": "light"
     },
     "output_type": "display_data"
    }
   ],
   "source": [
    "plt.plot(hist3.history['val_loss'])\n",
    "plt.plot(hist3.history['loss'])\n",
    "plt.title('Model loss')\n",
    "plt.ylabel('Loss')\n",
    "plt.xlabel('Epochs')\n",
    "plt.legend(['Test', 'Train'], loc='upper left')\n",
    "plt.show()"
   ]
  },
  {
   "cell_type": "code",
   "execution_count": 77,
   "metadata": {},
   "outputs": [
    {
     "name": "stdout",
     "output_type": "stream",
     "text": [
      "test loss, test acc: [0.4724204933643341, 0.7825000286102295]\n"
     ]
    }
   ],
   "source": [
    "print('test loss, test acc:', score3)"
   ]
  },
  {
   "cell_type": "code",
   "execution_count": null,
   "metadata": {},
   "outputs": [],
   "source": [
    "# try word2vec without removing words\n",
    "dictionary2 = gensim.corpora.Dictionary(text)\n",
    "X2 = [dictionary2.doc2idx(doc, unknown_word_index=-1) for doc in text]\n",
    "temp = []\n",
    "for document in X2:\n",
    "    temp.append([i for i in document if i != -1])\n",
    "X2 = temp   \n",
    "X_train2, X_test2, y_train2, y_test2 = train_test_split(X2, y, test_size=0.2, random_state=99)\n",
    "maxlen2 = 100\n",
    "X_train2 = pad_sequences(X_train2, padding='post', maxlen=maxlen2)\n",
    "X_test2 = pad_sequences(X_test2, padding='post', maxlen=maxlen2)\n",
    "vocab_size2 = len(dictionary2)\n",
    "\n",
    "vector_size2 = 1000\n",
    "word2vec2 = gensim.models.Word2Vec(sentences=text, size=vector_size2, min_count=1)\n",
    "\n",
    "temp = np.zeros((1, vector_size2))\n",
    "embedding_weights4 = np.zeros((vocab_size2, vector_size2))\n",
    "for word, idx in dictionary2.token2id.items():\n",
    "    embedding_weights4[idx] = word2vec2.wv[word]\n",
    "embedding_weights4 = np.concatenate((temp, embedding_weights4), axis=0)  "
   ]
  },
  {
   "cell_type": "code",
   "execution_count": 127,
   "metadata": {},
   "outputs": [
    {
     "data": {
      "text/plain": [
       "array([[ 0.00000000e+00,  0.00000000e+00,  0.00000000e+00, ...,\n",
       "         0.00000000e+00,  0.00000000e+00,  0.00000000e+00],\n",
       "       [-3.74706298e-01,  4.14134711e-01,  3.79388854e-02, ...,\n",
       "        -3.17932636e-01, -4.04051542e-02, -2.77629614e-01],\n",
       "       [-1.21162497e-01, -8.96108896e-02, -6.33463962e-03, ...,\n",
       "        -9.88041237e-02, -1.65012386e-02, -5.72095327e-02],\n",
       "       ...,\n",
       "       [-4.42946423e-03,  1.29045418e-03, -1.05277810e-04, ...,\n",
       "        -1.17877172e-03, -4.75391140e-03,  4.63917432e-03],\n",
       "       [-2.54105218e-03,  5.05413394e-03,  1.83977667e-04, ...,\n",
       "        -1.89024769e-03, -4.02791100e-03, -7.06292177e-03],\n",
       "       [ 2.81693763e-03,  2.82562571e-03, -4.04510833e-03, ...,\n",
       "        -1.36715057e-03, -1.21953785e-02, -8.83955508e-05]])"
      ]
     },
     "execution_count": 127,
     "metadata": {},
     "output_type": "execute_result"
    }
   ],
   "source": [
    "embedding_weights4"
   ]
  },
  {
   "cell_type": "code",
   "execution_count": 128,
   "metadata": {},
   "outputs": [],
   "source": [
    "model4 = Sequential()\n",
    "\n",
    "model4.add(Embedding(vocab_size2+1, vector_size2, weights=[embedding_weights4], input_length=maxlen2 , trainable=False))\n",
    "model4.add(Dropout(0.5))\n",
    "model4.add(Bidirectional(LSTM(32)))\n",
    "model4.add(Dropout(0.5))\n",
    "model4.add(Dense(1, activation='sigmoid'))\n",
    "model4.compile(optimizer='adam', loss='binary_crossentropy', metrics=['acc'])"
   ]
  },
  {
   "cell_type": "code",
   "execution_count": 129,
   "metadata": {},
   "outputs": [
    {
     "name": "stdout",
     "output_type": "stream",
     "text": [
      "Model: \"sequential_13\"\n",
      "_________________________________________________________________\n",
      "Layer (type)                 Output Shape              Param #   \n",
      "=================================================================\n",
      "embedding_12 (Embedding)     (None, 100, 1000)         104662000 \n",
      "_________________________________________________________________\n",
      "dropout_18 (Dropout)         (None, 100, 1000)         0         \n",
      "_________________________________________________________________\n",
      "bidirectional_10 (Bidirectio (None, 64)                264448    \n",
      "_________________________________________________________________\n",
      "dropout_19 (Dropout)         (None, 64)                0         \n",
      "_________________________________________________________________\n",
      "dense_9 (Dense)              (None, 1)                 65        \n",
      "=================================================================\n",
      "Total params: 104,926,513\n",
      "Trainable params: 264,513\n",
      "Non-trainable params: 104,662,000\n",
      "_________________________________________________________________\n"
     ]
    }
   ],
   "source": [
    "model4.summary()"
   ]
  },
  {
   "cell_type": "code",
   "execution_count": 130,
   "metadata": {},
   "outputs": [
    {
     "name": "stdout",
     "output_type": "stream",
     "text": [
      "Train on 32000 samples, validate on 8000 samples\n",
      "Epoch 1/5\n",
      "32000/32000 [==============================] - 195s 6ms/step - loss: 0.6066 - acc: 0.6631 - val_loss: 0.5134 - val_acc: 0.7504\n",
      "Epoch 2/5\n",
      "32000/32000 [==============================] - 185s 6ms/step - loss: 0.5109 - acc: 0.7485 - val_loss: 0.4564 - val_acc: 0.7880\n",
      "Epoch 3/5\n",
      "32000/32000 [==============================] - 181s 6ms/step - loss: 0.4604 - acc: 0.7829 - val_loss: 0.4742 - val_acc: 0.7729\n",
      "Epoch 4/5\n",
      "32000/32000 [==============================] - 194s 6ms/step - loss: 0.4263 - acc: 0.8068 - val_loss: 0.4042 - val_acc: 0.8136\n",
      "Epoch 5/5\n",
      "32000/32000 [==============================] - 192s 6ms/step - loss: 0.4074 - acc: 0.8143 - val_loss: 0.3910 - val_acc: 0.8215\n",
      "10000/10000 [==============================] - 32s 3ms/step\n"
     ]
    }
   ],
   "source": [
    "hist4 = model4.fit(X_train2, y_train2, batch_size=128, epochs=5, verbose=1, validation_split=0.2)\n",
    "score4 = model4.evaluate(X_test2, y_test2, verbose=1)"
   ]
  },
  {
   "cell_type": "code",
   "execution_count": 131,
   "metadata": {},
   "outputs": [
    {
     "data": {
      "image/png": "[encoded data removed]",
      "text/plain": [
       "<Figure size 432x288 with 1 Axes>"
      ]
     },
     "metadata": {
      "needs_background": "light"
     },
     "output_type": "display_data"
    }
   ],
   "source": [
    "plt.plot(hist4.history['val_loss'])\n",
    "plt.plot(hist4.history['loss'])\n",
    "plt.title('Model loss')\n",
    "plt.ylabel('Loss')\n",
    "plt.xlabel('Epochs')\n",
    "plt.legend(['Test', 'Train'], loc='upper left')\n",
    "plt.show()"
   ]
  },
  {
   "cell_type": "code",
   "execution_count": 132,
   "metadata": {},
   "outputs": [
    {
     "name": "stdout",
     "output_type": "stream",
     "text": [
      "test loss, test acc: [0.3722684697151184, 0.8374000191688538]\n"
     ]
    }
   ],
   "source": [
    "print('test loss, test acc:', score4)"
   ]
  },
  {
   "cell_type": "code",
   "execution_count": null,
   "metadata": {},
   "outputs": [],
   "source": []
  }
 ],
 "metadata": {
  "kernelspec": {
   "display_name": "Python 3",
   "language": "python",
   "name": "python3"
  },
  "language_info": {
   "codemirror_mode": {
    "name": "ipython",
    "version": 3
   },
   "file_extension": ".py",
   "mimetype": "text/x-python",
   "name": "python",
   "nbconvert_exporter": "python",
   "pygments_lexer": "ipython3",
   "version": "3.7.3"
  }
 },
 "nbformat": 4,
 "nbformat_minor": 4
}
